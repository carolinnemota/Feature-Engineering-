{
  "nbformat": 4,
  "nbformat_minor": 0,
  "metadata": {
    "colab": {
      "provenance": [],
      "authorship_tag": "ABX9TyORulxyAZNZTY0PzqY9Llyj",
      "include_colab_link": true
    },
    "kernelspec": {
      "name": "python3",
      "display_name": "Python 3"
    },
    "language_info": {
      "name": "python"
    }
  },
  "cells": [
    {
      "cell_type": "markdown",
      "metadata": {
        "id": "view-in-github",
        "colab_type": "text"
      },
      "source": [
        "<a href=\"https://colab.research.google.com/github/carolinnemota/Feature-Engineering-/blob/main/C%C3%B3pia_de_QP2_Feature_Engineering.ipynb\" target=\"_parent\"><img src=\"https://colab.research.google.com/assets/colab-badge.svg\" alt=\"Open In Colab\"/></a>"
      ]
    },
    {
      "cell_type": "code",
      "execution_count": null,
      "metadata": {
        "colab": {
          "base_uri": "https://localhost:8080/"
        },
        "id": "7zaW6010FiVi",
        "outputId": "a06e31df-e00a-4552-ade8-5433f9e6e73d"
      },
      "outputs": [
        {
          "output_type": "stream",
          "name": "stdout",
          "text": [
            "   id_transacao data_venda  valor_venda categoria_produto  quantidade_vendida  \\\n",
            "0             1 2025-03-15          100       eletronicos                   1   \n",
            "1             2 2025-03-16          250            roupas                   3   \n",
            "2             3 2025-03-17          150       eletronicos                   2   \n",
            "3             4 2025-03-18          200            roupas                   1   \n",
            "4             5 2025-03-19          300       eletronicos                   4   \n",
            "\n",
            "   hora_venda dia_da_semana  fim_de_semana  valor_medio_produto  hora_estranha  \n",
            "0          10      Saturday           True           100.000000              0  \n",
            "1          21        Sunday           True            83.333333              0  \n",
            "2          13        Monday          False            75.000000              0  \n",
            "3           5       Tuesday          False           200.000000              1  \n",
            "4          23     Wednesday          False            75.000000              0  \n"
          ]
        }
      ],
      "source": [
        "import pandas as pd\n",
        "import numpy as np\n",
        "\n",
        "dados = {\n",
        "  'id_transacao': [1, 2, 3, 4, 5],\n",
        "  'data_venda': ['2025-03-15', '2025-03-16', '2025-03-17', '2025-03-18', '2025-03-19'],\n",
        "  'valor_venda': [100, 250, 150, 200, 300],\n",
        "  'categoria_produto': ['eletronicos', 'roupas', 'eletronicos', 'roupas', 'eletronicos'],\n",
        "  'quantidade_vendida': [1, 3, 2, 1, 4],\n",
        "  'hora_venda': [10, 21, 13, 5, 23]\n",
        "}\n",
        "\n",
        "df = pd.DataFrame(dados)\n",
        "df['data_venda'] = pd.to_datetime(df['data_venda'])\n",
        "df['dia_da_semana'] = df['data_venda'].dt.day_name()\n",
        "df['fim_de_semana'] = df['data_venda'].dt.weekday >= 5\n",
        "df['valor_medio_produto'] = df['valor_venda'] / df['quantidade_vendida']\n",
        "df['hora_estranha'] = np.where(df['hora_venda'] < 6, 1, 0)\n",
        "print(df)\n"
      ]
    }
  ]
}